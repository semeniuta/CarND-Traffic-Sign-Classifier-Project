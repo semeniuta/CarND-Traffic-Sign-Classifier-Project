{
 "cells": [
  {
   "cell_type": "code",
   "execution_count": 1,
   "metadata": {},
   "outputs": [],
   "source": [
    "%matplotlib inline\n",
    "%load_ext autoreload\n",
    "%autoreload 2"
   ]
  },
  {
   "cell_type": "code",
   "execution_count": 2,
   "metadata": {},
   "outputs": [],
   "source": [
    "import tensorflow as tf\n",
    "import numpy as np\n",
    "import json"
   ]
  },
  {
   "cell_type": "code",
   "execution_count": 3,
   "metadata": {},
   "outputs": [],
   "source": [
    "import tfnet"
   ]
  },
  {
   "cell_type": "code",
   "execution_count": 4,
   "metadata": {},
   "outputs": [],
   "source": [
    "X_train, y_train, X_valid, y_valid, X_test, y_test = tfnet.load_original_data('../traffic-signs-data')"
   ]
  },
  {
   "cell_type": "code",
   "execution_count": 5,
   "metadata": {},
   "outputs": [],
   "source": [
    "n_classes = len(np.unique(y_train))"
   ]
  },
  {
   "cell_type": "code",
   "execution_count": 6,
   "metadata": {},
   "outputs": [],
   "source": [
    "channel_means = tfnet.get_image_data_mean_per_channel(X_train)\n",
    "\n",
    "X_train_scaled = tfnet.image_data_scaling(X_train, channel_means)\n",
    "X_test_scaled = tfnet.image_data_scaling(X_test, channel_means)\n",
    "X_valid_scaled = tfnet.image_data_scaling(X_valid, channel_means)"
   ]
  },
  {
   "cell_type": "code",
   "execution_count": 7,
   "metadata": {},
   "outputs": [],
   "source": [
    "SESSION_CHECKPOINT = 'grid-search-2/nn_2018-01-24_144003'"
   ]
  },
  {
   "cell_type": "code",
   "execution_count": 8,
   "metadata": {},
   "outputs": [
    {
     "data": {
      "text/plain": [
       "{'conv_layers': [[28, 28, 6], [10, 10, 16]],\n",
       " 'fc_layers': [120, 84, 43],\n",
       " 'mean': 0.0,\n",
       " 'stddev': 0.1}"
      ]
     },
     "execution_count": 8,
     "metadata": {},
     "output_type": "execute_result"
    }
   ],
   "source": [
    "hyper = json.load(open(SESSION_CHECKPOINT + '_hyper.json'))\n",
    "hyper"
   ]
  },
  {
   "cell_type": "code",
   "execution_count": null,
   "metadata": {},
   "outputs": [],
   "source": []
  },
  {
   "cell_type": "code",
   "execution_count": 9,
   "metadata": {},
   "outputs": [],
   "source": [
    "x = tf.placeholder(tf.float32, (None, 32, 32, 3))\n",
    "y = tf.placeholder(tf.int32, (None))\n",
    "one_hot_y = tf.one_hot(y, n_classes)\n",
    "\n",
    "convnet_func = tfnet.create_convnet(**hyper)\n",
    "tensors = convnet_func(x)\n",
    "y_hat = tensors[-1]\n",
    "dropout_prob = tensors[0]\n",
    "\n",
    "training_op = tfnet.create_training_tensor(y_hat, one_hot_y, rate=0.001)\n",
    "accuracy_op = tfnet.create_accuracy_tensor(y_hat, one_hot_y)"
   ]
  },
  {
   "cell_type": "code",
   "execution_count": 10,
   "metadata": {},
   "outputs": [
    {
     "name": "stdout",
     "output_type": "stream",
     "text": [
      "0.0226757369615\n",
      "0.956462585034\n"
     ]
    }
   ],
   "source": [
    "saver = tf.train.Saver()\n",
    "\n",
    "with tf.Session() as session:\n",
    "    \n",
    "    session.run(tf.global_variables_initializer())    \n",
    "    accuracy_1 = tfnet.evaluate_accuracy(accuracy_op, x, y, dropout_prob, X_valid, y_valid, batch_size=128)\n",
    "    print(accuracy_1)\n",
    "    \n",
    "    saver.restore(session, SESSION_CHECKPOINT)\n",
    "    accuracy_2 = tfnet.evaluate_accuracy(accuracy_op, x, y, dropout_prob, X_valid_scaled, y_valid, batch_size=128)\n",
    "    print(accuracy_2)\n"
   ]
  },
  {
   "cell_type": "code",
   "execution_count": null,
   "metadata": {},
   "outputs": [],
   "source": []
  },
  {
   "cell_type": "code",
   "execution_count": null,
   "metadata": {},
   "outputs": [],
   "source": []
  }
 ],
 "metadata": {
  "kernelspec": {
   "display_name": "Python 3",
   "language": "python",
   "name": "python3"
  },
  "language_info": {
   "codemirror_mode": {
    "name": "ipython",
    "version": 3
   },
   "file_extension": ".py",
   "mimetype": "text/x-python",
   "name": "python",
   "nbconvert_exporter": "python",
   "pygments_lexer": "ipython3",
   "version": "3.5.2"
  },
  "widgets": {
   "state": {},
   "version": "1.1.2"
  }
 },
 "nbformat": 4,
 "nbformat_minor": 2
}
