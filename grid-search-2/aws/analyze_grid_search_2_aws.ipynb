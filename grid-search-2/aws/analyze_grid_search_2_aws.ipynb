{
 "cells": [
  {
   "cell_type": "code",
   "execution_count": 1,
   "metadata": {},
   "outputs": [],
   "source": [
    "%matplotlib inline\n",
    "%load_ext autoreload\n",
    "%autoreload 2"
   ]
  },
  {
   "cell_type": "code",
   "execution_count": 2,
   "metadata": {},
   "outputs": [],
   "source": [
    "import os\n",
    "import pandas as pd\n",
    "import json\n",
    "import numpy as np\n",
    "from glob import glob\n",
    "from matplotlib import pyplot as plt"
   ]
  },
  {
   "cell_type": "code",
   "execution_count": 3,
   "metadata": {},
   "outputs": [],
   "source": [
    "n_epochs = 20"
   ]
  },
  {
   "cell_type": "code",
   "execution_count": 4,
   "metadata": {},
   "outputs": [],
   "source": [
    "acc_files = glob('nn_*_accuracies.npy')\n",
    "trials = [f.split('_accuracies.npy')[0] for f in acc_files]\n",
    "\n",
    "traces = np.zeros((len(trials), n_epochs))\n",
    "for i, f in enumerate(acc_files):\n",
    "    traces[i, :] = np.load(f) "
   ]
  },
  {
   "cell_type": "code",
   "execution_count": 5,
   "metadata": {},
   "outputs": [],
   "source": [
    "def read_hyper(trial_name):\n",
    "\n",
    "    with open(trial_name + '_hyper.json') as f:\n",
    "        hyper_dict = json.loads(f.readlines()[0])\n",
    "        \n",
    "    return hyper_dict"
   ]
  },
  {
   "cell_type": "code",
   "execution_count": 22,
   "metadata": {
    "scrolled": false
   },
   "outputs": [
    {
     "data": {
      "text/html": [
       "<div>\n",
       "<style scoped>\n",
       "    .dataframe tbody tr th:only-of-type {\n",
       "        vertical-align: middle;\n",
       "    }\n",
       "\n",
       "    .dataframe tbody tr th {\n",
       "        vertical-align: top;\n",
       "    }\n",
       "\n",
       "    .dataframe thead th {\n",
       "        text-align: right;\n",
       "    }\n",
       "</style>\n",
       "<table border=\"1\" class=\"dataframe\">\n",
       "  <thead>\n",
       "    <tr style=\"text-align: right;\">\n",
       "      <th></th>\n",
       "      <th>conv_layers</th>\n",
       "      <th>fc_layers</th>\n",
       "      <th>mean</th>\n",
       "      <th>stddev</th>\n",
       "      <th>max_acc</th>\n",
       "    </tr>\n",
       "  </thead>\n",
       "  <tbody>\n",
       "    <tr>\n",
       "      <th>nn_2018-01-24_142954</th>\n",
       "      <td>[[28, 28, 6], [10, 10, 16]]</td>\n",
       "      <td>[120, 84, 43]</td>\n",
       "      <td>0</td>\n",
       "      <td>0.1</td>\n",
       "      <td>0.951927</td>\n",
       "    </tr>\n",
       "    <tr>\n",
       "      <th>nn_2018-01-24_143153</th>\n",
       "      <td>[[28, 28, 7], [10, 10, 17]]</td>\n",
       "      <td>[120, 84, 43]</td>\n",
       "      <td>0</td>\n",
       "      <td>0.1</td>\n",
       "      <td>0.958957</td>\n",
       "    </tr>\n",
       "    <tr>\n",
       "      <th>nn_2018-01-24_143255</th>\n",
       "      <td>[[28, 28, 8], [10, 10, 18]]</td>\n",
       "      <td>[120, 84, 43]</td>\n",
       "      <td>0</td>\n",
       "      <td>0.1</td>\n",
       "      <td>0.961678</td>\n",
       "    </tr>\n",
       "    <tr>\n",
       "      <th>nn_2018-01-24_143400</th>\n",
       "      <td>[[28, 28, 9], [10, 10, 19]]</td>\n",
       "      <td>[120, 84, 43]</td>\n",
       "      <td>0</td>\n",
       "      <td>0.1</td>\n",
       "      <td>0.962585</td>\n",
       "    </tr>\n",
       "    <tr>\n",
       "      <th>nn_2018-01-24_143511</th>\n",
       "      <td>[[28, 28, 10], [10, 10, 20]]</td>\n",
       "      <td>[120, 84, 43]</td>\n",
       "      <td>0</td>\n",
       "      <td>0.1</td>\n",
       "      <td>0.945578</td>\n",
       "    </tr>\n",
       "  </tbody>\n",
       "</table>\n",
       "</div>"
      ],
      "text/plain": [
       "                                       conv_layers      fc_layers mean stddev  \\\n",
       "nn_2018-01-24_142954   [[28, 28, 6], [10, 10, 16]]  [120, 84, 43]    0    0.1   \n",
       "nn_2018-01-24_143153   [[28, 28, 7], [10, 10, 17]]  [120, 84, 43]    0    0.1   \n",
       "nn_2018-01-24_143255   [[28, 28, 8], [10, 10, 18]]  [120, 84, 43]    0    0.1   \n",
       "nn_2018-01-24_143400   [[28, 28, 9], [10, 10, 19]]  [120, 84, 43]    0    0.1   \n",
       "nn_2018-01-24_143511  [[28, 28, 10], [10, 10, 20]]  [120, 84, 43]    0    0.1   \n",
       "\n",
       "                       max_acc  \n",
       "nn_2018-01-24_142954  0.951927  \n",
       "nn_2018-01-24_143153  0.958957  \n",
       "nn_2018-01-24_143255  0.961678  \n",
       "nn_2018-01-24_143400  0.962585  \n",
       "nn_2018-01-24_143511  0.945578  "
      ]
     },
     "execution_count": 22,
     "metadata": {},
     "output_type": "execute_result"
    }
   ],
   "source": [
    "df = pd.DataFrame({tr: read_hyper(tr) for tr in trials}).T\n",
    "df['max_acc'] = [t.max() for t in traces]\n",
    "\n",
    "df"
   ]
  },
  {
   "cell_type": "code",
   "execution_count": 21,
   "metadata": {},
   "outputs": [
    {
     "data": {
      "image/png": "[encoded data removed]",
      "text/plain": [
       "<matplotlib.figure.Figure at 0x1122d6588>"
      ]
     },
     "metadata": {},
     "output_type": "display_data"
    }
   ],
   "source": [
    "plt.figure()\n",
    "for i in range(len(traces)):\n",
    "    plt.plot(traces[i, :])"
   ]
  },
  {
   "cell_type": "code",
   "execution_count": null,
   "metadata": {},
   "outputs": [],
   "source": []
  },
  {
   "cell_type": "code",
   "execution_count": null,
   "metadata": {},
   "outputs": [],
   "source": []
  },
  {
   "cell_type": "code",
   "execution_count": null,
   "metadata": {},
   "outputs": [],
   "source": []
  }
 ],
 "metadata": {
  "kernelspec": {
   "display_name": "Python 3",
   "language": "python",
   "name": "python3"
  },
  "language_info": {
   "codemirror_mode": {
    "name": "ipython",
    "version": 3
   },
   "file_extension": ".py",
   "mimetype": "text/x-python",
   "name": "python",
   "nbconvert_exporter": "python",
   "pygments_lexer": "ipython3",
   "version": "3.5.2"
  },
  "widgets": {
   "state": {},
   "version": "1.1.2"
  }
 },
 "nbformat": 4,
 "nbformat_minor": 2
}
