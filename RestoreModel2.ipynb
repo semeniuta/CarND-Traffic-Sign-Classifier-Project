{
 "cells": [
  {
   "cell_type": "code",
   "execution_count": 1,
   "metadata": {},
   "outputs": [],
   "source": [
    "%matplotlib inline\n",
    "%load_ext autoreload\n",
    "%autoreload 2"
   ]
  },
  {
   "cell_type": "code",
   "execution_count": 2,
   "metadata": {},
   "outputs": [],
   "source": [
    "import tensorflow as tf\n",
    "import numpy as np"
   ]
  },
  {
   "cell_type": "code",
   "execution_count": 3,
   "metadata": {},
   "outputs": [],
   "source": [
    "import tfnet"
   ]
  },
  {
   "cell_type": "code",
   "execution_count": 4,
   "metadata": {},
   "outputs": [],
   "source": [
    "X_train, y_train, X_valid, y_valid, X_test, y_test = tfnet.load_original_data('../traffic-signs-data')"
   ]
  },
  {
   "cell_type": "code",
   "execution_count": 5,
   "metadata": {},
   "outputs": [],
   "source": [
    "n_classes = len(np.unique(y_train))"
   ]
  },
  {
   "cell_type": "code",
   "execution_count": 6,
   "metadata": {},
   "outputs": [],
   "source": [
    "channel_means = tfnet.get_image_data_mean_per_channel(X_train)\n",
    "\n",
    "X_train_scaled = tfnet.image_data_scaling(X_train, channel_means)\n",
    "X_test_scaled = tfnet.image_data_scaling(X_test, channel_means)\n",
    "X_valid_scaled = tfnet.image_data_scaling(X_valid, channel_means)"
   ]
  },
  {
   "cell_type": "code",
   "execution_count": null,
   "metadata": {},
   "outputs": [],
   "source": []
  },
  {
   "cell_type": "code",
   "execution_count": 17,
   "metadata": {},
   "outputs": [],
   "source": [
    "SESSION_CHECKPOINT = 'grid-search-0/best/nn_2018-01-20_152418'\n",
    "\n",
    "saver = tf.train.import_meta_graph(SESSION_CHECKPOINT + '.meta')\n",
    "\n",
    "with tf.Session() as session:\n",
    "    \n",
    "    saver.restore(session, SESSION_CHECKPOINT)\n",
    "    \n",
    "    graph = tf.get_default_graph()\n",
    "    logits = graph.get_tensor_by_name('dropout_2/mul:0')\n",
    "    \n",
    "    #for op in tf.get_default_graph().get_operations():\n",
    "    #    print(str(op.name))\n",
    "    \n",
    "    \n",
    "    \n",
    "    #print([n.name for n in tf.get_default_graph().as_graph_def().node])\n",
    "    \n",
    "    \n",
    "    #accuracy = tfnet.evaluate_accuracy(accuracy_op, x, y, dropout_prob, X_valid_scaled, y_valid, batch_size=128)\n",
    "    #print(accuracy)\n"
   ]
  },
  {
   "cell_type": "code",
   "execution_count": null,
   "metadata": {},
   "outputs": [],
   "source": []
  },
  {
   "cell_type": "code",
   "execution_count": null,
   "metadata": {},
   "outputs": [],
   "source": []
  }
 ],
 "metadata": {
  "kernelspec": {
   "display_name": "Python 3",
   "language": "python",
   "name": "python3"
  },
  "language_info": {
   "codemirror_mode": {
    "name": "ipython",
    "version": 3
   },
   "file_extension": ".py",
   "mimetype": "text/x-python",
   "name": "python",
   "nbconvert_exporter": "python",
   "pygments_lexer": "ipython3",
   "version": "3.5.2"
  },
  "widgets": {
   "state": {},
   "version": "1.1.2"
  }
 },
 "nbformat": 4,
 "nbformat_minor": 2
}
