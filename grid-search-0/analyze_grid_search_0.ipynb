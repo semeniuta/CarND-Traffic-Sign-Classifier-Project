{
 "cells": [
  {
   "cell_type": "markdown",
   "metadata": {},
   "source": [
    "rates = (0.001, 0.01, 0.1)\n",
    "batch_sizes = (64, 128, 256)\n",
    "dropout_probs = (0.4, 0.5, 0.6)"
   ]
  },
  {
   "cell_type": "code",
   "execution_count": 1,
   "metadata": {},
   "outputs": [],
   "source": [
    "%matplotlib inline\n",
    "%load_ext autoreload\n",
    "%autoreload 2"
   ]
  },
  {
   "cell_type": "code",
   "execution_count": 2,
   "metadata": {},
   "outputs": [],
   "source": [
    "import os\n",
    "import pandas as pd\n",
    "import json\n",
    "import numpy as np\n",
    "from glob import glob\n",
    "from matplotlib import pyplot as plt"
   ]
  },
  {
   "cell_type": "code",
   "execution_count": 3,
   "metadata": {},
   "outputs": [],
   "source": [
    "n_epochs = 20"
   ]
  },
  {
   "cell_type": "code",
   "execution_count": 4,
   "metadata": {},
   "outputs": [],
   "source": [
    "acc_files = glob('nn_*_accuracies.npy')\n",
    "trials = [f.split('_accuracies.npy')[0] for f in acc_files]\n",
    "\n",
    "traces = np.zeros((len(trials), n_epochs))\n",
    "for i, f in enumerate(acc_files):\n",
    "    traces[i, :] = np.load(f) "
   ]
  },
  {
   "cell_type": "code",
   "execution_count": 5,
   "metadata": {},
   "outputs": [],
   "source": [
    "def read_hyper(trial_name):\n",
    "\n",
    "    with open(trial_name + '_hyper.json') as f:\n",
    "        hyper_dict = json.loads(f.readlines()[0])\n",
    "        \n",
    "    return hyper_dict"
   ]
  },
  {
   "cell_type": "code",
   "execution_count": 6,
   "metadata": {},
   "outputs": [
    {
     "data": {
      "text/html": [
       "<div>\n",
       "<style scoped>\n",
       "    .dataframe tbody tr th:only-of-type {\n",
       "        vertical-align: middle;\n",
       "    }\n",
       "\n",
       "    .dataframe tbody tr th {\n",
       "        vertical-align: top;\n",
       "    }\n",
       "\n",
       "    .dataframe thead th {\n",
       "        text-align: right;\n",
       "    }\n",
       "</style>\n",
       "<table border=\"1\" class=\"dataframe\">\n",
       "  <thead>\n",
       "    <tr style=\"text-align: right;\">\n",
       "      <th></th>\n",
       "      <th>batch_size</th>\n",
       "      <th>keep_prob</th>\n",
       "      <th>rate</th>\n",
       "      <th>max_acc</th>\n",
       "    </tr>\n",
       "  </thead>\n",
       "  <tbody>\n",
       "    <tr>\n",
       "      <th>nn_2018-01-20_152418</th>\n",
       "      <td>128.0</td>\n",
       "      <td>0.6</td>\n",
       "      <td>0.001</td>\n",
       "      <td>0.962132</td>\n",
       "    </tr>\n",
       "    <tr>\n",
       "      <th>nn_2018-01-20_151023</th>\n",
       "      <td>128.0</td>\n",
       "      <td>0.5</td>\n",
       "      <td>0.001</td>\n",
       "      <td>0.957823</td>\n",
       "    </tr>\n",
       "    <tr>\n",
       "      <th>nn_2018-01-20_144217</th>\n",
       "      <td>64.0</td>\n",
       "      <td>0.6</td>\n",
       "      <td>0.001</td>\n",
       "      <td>0.955329</td>\n",
       "    </tr>\n",
       "    <tr>\n",
       "      <th>nn_2018-01-20_142759</th>\n",
       "      <td>64.0</td>\n",
       "      <td>0.5</td>\n",
       "      <td>0.001</td>\n",
       "      <td>0.952381</td>\n",
       "    </tr>\n",
       "    <tr>\n",
       "      <th>nn_2018-01-20_145634</th>\n",
       "      <td>128.0</td>\n",
       "      <td>0.4</td>\n",
       "      <td>0.001</td>\n",
       "      <td>0.928345</td>\n",
       "    </tr>\n",
       "    <tr>\n",
       "      <th>nn_2018-01-20_141426</th>\n",
       "      <td>64.0</td>\n",
       "      <td>0.4</td>\n",
       "      <td>0.001</td>\n",
       "      <td>0.925397</td>\n",
       "    </tr>\n",
       "  </tbody>\n",
       "</table>\n",
       "</div>"
      ],
      "text/plain": [
       "                      batch_size  keep_prob   rate   max_acc\n",
       "nn_2018-01-20_152418       128.0        0.6  0.001  0.962132\n",
       "nn_2018-01-20_151023       128.0        0.5  0.001  0.957823\n",
       "nn_2018-01-20_144217        64.0        0.6  0.001  0.955329\n",
       "nn_2018-01-20_142759        64.0        0.5  0.001  0.952381\n",
       "nn_2018-01-20_145634       128.0        0.4  0.001  0.928345\n",
       "nn_2018-01-20_141426        64.0        0.4  0.001  0.925397"
      ]
     },
     "execution_count": 6,
     "metadata": {},
     "output_type": "execute_result"
    }
   ],
   "source": [
    "df = pd.DataFrame({tr: read_hyper(tr) for tr in trials}).T\n",
    "df['max_acc'] = np.zeros(len(df))\n",
    "\n",
    "for name, t in zip(trials, traces):\n",
    "    df.loc[name]['max_acc'] = t.max()\n",
    "    \n",
    "df.sort_values(by=['max_acc'], inplace=True, ascending=False)\n",
    "\n",
    "df"
   ]
  },
  {
   "cell_type": "code",
   "execution_count": 7,
   "metadata": {},
   "outputs": [
    {
     "data": {
      "image/png": "[encoded data removed]",
      "text/plain": [
       "<matplotlib.figure.Figure at 0x7f3dddd16fd0>"
      ]
     },
     "metadata": {},
     "output_type": "display_data"
    }
   ],
   "source": [
    "plt.figure()\n",
    "for i in range(len(traces)):\n",
    "    plt.plot(traces[i, :])"
   ]
  }
 ],
 "metadata": {
  "kernelspec": {
   "display_name": "Python 3",
   "language": "python",
   "name": "python3"
  },
  "language_info": {
   "codemirror_mode": {
    "name": "ipython",
    "version": 3
   },
   "file_extension": ".py",
   "mimetype": "text/x-python",
   "name": "python",
   "nbconvert_exporter": "python",
   "pygments_lexer": "ipython3",
   "version": "3.5.2"
  },
  "widgets": {
   "state": {},
   "version": "1.1.2"
  }
 },
 "nbformat": 4,
 "nbformat_minor": 2
}
